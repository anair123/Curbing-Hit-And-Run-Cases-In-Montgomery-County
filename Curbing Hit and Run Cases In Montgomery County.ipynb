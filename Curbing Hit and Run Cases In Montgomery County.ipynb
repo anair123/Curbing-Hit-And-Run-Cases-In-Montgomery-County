{
 "cells": [
  {
   "cell_type": "markdown",
   "metadata": {
    "id": "yw6px1YBnfms"
   },
   "source": [
    "# Introduction"
   ]
  },
  {
   "cell_type": "markdown",
   "metadata": {
    "id": "a6tANY6ljuyq"
   },
   "source": [
    "  This python notebook covers the procedure for cleaning and analyzing the dataset containing information on the collisions in Montgomery county. It also highlights the steps taken to answer the created research questions. Firstly, the study will use hypothesis testing to establish a connection between the damage caused by the collision and the hit and runs that follow the collision. After that, various machine learning models will be built to predict hit and run outcomes. The best performing classifier will give insight into which features have most influence over the likelihood of a driver commiting a hit and run."
   ]
  },
  {
   "cell_type": "code",
   "execution_count": 3,
   "metadata": {
    "colab": {
     "base_uri": "https://localhost:8080/"
    },
    "id": "ZjUVz9i0nkYJ",
    "outputId": "4087e2da-4ad9-405e-9e7e-727c94f321c8"
   },
   "outputs": [
    {
     "name": "stderr",
     "output_type": "stream",
     "text": [
      "/usr/local/lib/python3.7/dist-packages/statsmodels/tools/_testing.py:19: FutureWarning: pandas.util.testing is deprecated. Use the functions in the public API at pandas.testing instead.\n",
      "  import pandas.util.testing as tm\n",
      "/usr/local/lib/python3.7/dist-packages/sklearn/externals/six.py:31: FutureWarning: The module is deprecated in version 0.21 and will be removed in version 0.23 since we've dropped support for Python 2.7. Please rely on the official version of six (https://pypi.org/project/six/).\n",
      "  \"(https://pypi.org/project/six/).\", FutureWarning)\n",
      "/usr/local/lib/python3.7/dist-packages/sklearn/utils/deprecation.py:144: FutureWarning: The sklearn.neighbors.base module is  deprecated in version 0.22 and will be removed in version 0.24. The corresponding classes / functions should instead be imported from sklearn.neighbors. Anything that cannot be imported from sklearn.neighbors is now part of the private API.\n",
      "  warnings.warn(message, FutureWarning)\n"
     ]
    }
   ],
   "source": [
    "# Import Libraries\n",
    "import numpy as np\n",
    "import json\n",
    "import pandas as pd\n",
    "import matplotlib.pyplot as plt\n",
    "from matplotlib import pyplot\n",
    "import seaborn as sns\n",
    "import statsmodels.api as sm\n",
    "from scipy.stats import chi2_contingency\n",
    "from sklearn.preprocessing import LabelEncoder\n",
    "from sklearn.preprocessing import OneHotEncoder\n",
    "from sklearn.model_selection import train_test_split\n",
    "from imblearn.over_sampling import SMOTE\n",
    "from imblearn.over_sampling import RandomOverSampler\n",
    "from imblearn.under_sampling import RandomUnderSampler\n",
    "from sklearn.model_selection import RepeatedStratifiedKFold\n",
    "from sklearn.preprocessing import StandardScaler\n",
    "from collections import Counter\n",
    "from imblearn.pipeline import Pipeline\n",
    "from sklearn.linear_model import LogisticRegression\n",
    "from sklearn.ensemble import RandomForestClassifier\n",
    "from xgboost import XGBClassifier\n",
    "from xgboost import plot_importance\n",
    "from sklearn.model_selection import RepeatedStratifiedKFold\n",
    "from sklearn.pipeline import Pipeline\n",
    "from sklearn.model_selection import GridSearchCV\n",
    "from sklearn.metrics import f1_score\n",
    "from sklearn.metrics import make_scorer\n",
    "from sklearn.metrics import confusion_matrix\n",
    "import warnings\n",
    "import collections\n",
    "\n",
    "# ignore future warnings\n",
    "warnings.simplefilter(action='ignore', category=FutureWarning)"
   ]
  },
  {
   "cell_type": "code",
   "execution_count": 4,
   "metadata": {
    "colab": {
     "base_uri": "https://localhost:8080/"
    },
    "id": "FBkLuCupqgDZ",
    "outputId": "12b7a319-0c68-4688-ae76-526a046f1af8"
   },
   "outputs": [
    {
     "name": "stderr",
     "output_type": "stream",
     "text": [
      "/usr/local/lib/python3.7/dist-packages/IPython/core/interactiveshell.py:2718: DtypeWarning: Columns (1) have mixed types.Specify dtype option on import or set low_memory=False.\n",
      "  interactivity=interactivity, compiler=compiler, result=result)\n"
     ]
    }
   ],
   "source": [
    "# Import Dataset\n",
    "df_raw = pd.read_csv('Crash_Reporting_-_Incidents_Data.csv')"
   ]
  },
  {
   "cell_type": "markdown",
   "metadata": {
    "id": "0k1LjCPLvz1t"
   },
   "source": [
    "# A Quick Glance at the Data"
   ]
  },
  {
   "cell_type": "code",
   "execution_count": 5,
   "metadata": {
    "colab": {
     "base_uri": "https://localhost:8080/",
     "height": 542
    },
    "id": "FTsLNwLrvzk7",
    "outputId": "52cfae86-1365-4b11-daae-16ef342432e3"
   },
   "outputs": [
    {
     "data": {
      "text/html": [
       "<div>\n",
       "<style scoped>\n",
       "    .dataframe tbody tr th:only-of-type {\n",
       "        vertical-align: middle;\n",
       "    }\n",
       "\n",
       "    .dataframe tbody tr th {\n",
       "        vertical-align: top;\n",
       "    }\n",
       "\n",
       "    .dataframe thead th {\n",
       "        text-align: right;\n",
       "    }\n",
       "</style>\n",
       "<table border=\"1\" class=\"dataframe\">\n",
       "  <thead>\n",
       "    <tr style=\"text-align: right;\">\n",
       "      <th></th>\n",
       "      <th>Report Number</th>\n",
       "      <th>Local Case Number</th>\n",
       "      <th>Agency Name</th>\n",
       "      <th>ACRS Report Type</th>\n",
       "      <th>Crash Date/Time</th>\n",
       "      <th>Hit/Run</th>\n",
       "      <th>Route Type</th>\n",
       "      <th>Mile Point</th>\n",
       "      <th>Mile Point Direction</th>\n",
       "      <th>Lane Direction</th>\n",
       "      <th>Lane Number</th>\n",
       "      <th>Lane Type</th>\n",
       "      <th>Number of Lanes</th>\n",
       "      <th>Direction</th>\n",
       "      <th>Distance</th>\n",
       "      <th>Distance Unit</th>\n",
       "      <th>Road Grade</th>\n",
       "      <th>NonTraffic</th>\n",
       "      <th>Road Name</th>\n",
       "      <th>Cross-Street Type</th>\n",
       "      <th>Cross-Street Name</th>\n",
       "      <th>Off-Road Description</th>\n",
       "      <th>Municipality</th>\n",
       "      <th>Related Non-Motorist</th>\n",
       "      <th>At Fault</th>\n",
       "      <th>Collision Type</th>\n",
       "      <th>Weather</th>\n",
       "      <th>Surface Condition</th>\n",
       "      <th>Light</th>\n",
       "      <th>Traffic Control</th>\n",
       "      <th>Driver Substance Abuse</th>\n",
       "      <th>Non-Motorist Substance Abuse</th>\n",
       "      <th>First Harmful Event</th>\n",
       "      <th>Second Harmful Event</th>\n",
       "      <th>Fixed Oject Struck</th>\n",
       "      <th>Junction</th>\n",
       "      <th>Intersection Type</th>\n",
       "      <th>Intersection Area</th>\n",
       "      <th>Road Alignment</th>\n",
       "      <th>Road Condition</th>\n",
       "      <th>Road Division</th>\n",
       "      <th>Latitude</th>\n",
       "      <th>Longitude</th>\n",
       "      <th>Location</th>\n",
       "    </tr>\n",
       "  </thead>\n",
       "  <tbody>\n",
       "    <tr>\n",
       "      <th>0</th>\n",
       "      <td>MCP3048005T</td>\n",
       "      <td>190046316</td>\n",
       "      <td>Montgomery County Police</td>\n",
       "      <td>Property Damage Crash</td>\n",
       "      <td>09/27/2019 09:38:00 AM</td>\n",
       "      <td>No</td>\n",
       "      <td>NaN</td>\n",
       "      <td>NaN</td>\n",
       "      <td>NaN</td>\n",
       "      <td>NaN</td>\n",
       "      <td>0</td>\n",
       "      <td>NaN</td>\n",
       "      <td>0</td>\n",
       "      <td>NaN</td>\n",
       "      <td>NaN</td>\n",
       "      <td>NaN</td>\n",
       "      <td>NaN</td>\n",
       "      <td>Yes</td>\n",
       "      <td>NaN</td>\n",
       "      <td>NaN</td>\n",
       "      <td>NaN</td>\n",
       "      <td>IN FRONT OF 6630 EAMES WAY BETHESDA, MD.</td>\n",
       "      <td>NaN</td>\n",
       "      <td>NaN</td>\n",
       "      <td>DRIVER</td>\n",
       "      <td>SINGLE VEHICLE</td>\n",
       "      <td>CLEAR</td>\n",
       "      <td>NaN</td>\n",
       "      <td>DAYLIGHT</td>\n",
       "      <td>NaN</td>\n",
       "      <td>NaN</td>\n",
       "      <td>NaN</td>\n",
       "      <td>OTHER</td>\n",
       "      <td>NaN</td>\n",
       "      <td>BUILDING</td>\n",
       "      <td>NaN</td>\n",
       "      <td>NaN</td>\n",
       "      <td>NaN</td>\n",
       "      <td>NaN</td>\n",
       "      <td>NaN</td>\n",
       "      <td>NaN</td>\n",
       "      <td>39.026700</td>\n",
       "      <td>-77.136785</td>\n",
       "      <td>(39.0267, -77.136785)</td>\n",
       "    </tr>\n",
       "    <tr>\n",
       "      <th>1</th>\n",
       "      <td>EJ78460055</td>\n",
       "      <td>200017938</td>\n",
       "      <td>Gaithersburg Police Depar</td>\n",
       "      <td>Property Damage Crash</td>\n",
       "      <td>05/02/2020 02:16:00 PM</td>\n",
       "      <td>Yes</td>\n",
       "      <td>NaN</td>\n",
       "      <td>NaN</td>\n",
       "      <td>NaN</td>\n",
       "      <td>NaN</td>\n",
       "      <td>0</td>\n",
       "      <td>NaN</td>\n",
       "      <td>0</td>\n",
       "      <td>NaN</td>\n",
       "      <td>NaN</td>\n",
       "      <td>NaN</td>\n",
       "      <td>NaN</td>\n",
       "      <td>Yes</td>\n",
       "      <td>NaN</td>\n",
       "      <td>NaN</td>\n",
       "      <td>NaN</td>\n",
       "      <td>949 CLOPPER RD PARKING LOT</td>\n",
       "      <td>NaN</td>\n",
       "      <td>NaN</td>\n",
       "      <td>DRIVER</td>\n",
       "      <td>STRAIGHT MOVEMENT ANGLE</td>\n",
       "      <td>CLEAR</td>\n",
       "      <td>NaN</td>\n",
       "      <td>DAYLIGHT</td>\n",
       "      <td>NO CONTROLS</td>\n",
       "      <td>UNKNOWN</td>\n",
       "      <td>NaN</td>\n",
       "      <td>PARKED VEHICLE</td>\n",
       "      <td>NaN</td>\n",
       "      <td>NaN</td>\n",
       "      <td>NaN</td>\n",
       "      <td>NaN</td>\n",
       "      <td>NaN</td>\n",
       "      <td>NaN</td>\n",
       "      <td>NaN</td>\n",
       "      <td>NaN</td>\n",
       "      <td>39.147956</td>\n",
       "      <td>-77.229616</td>\n",
       "      <td>(39.14795617, -77.2296164)</td>\n",
       "    </tr>\n",
       "    <tr>\n",
       "      <th>2</th>\n",
       "      <td>MCP3245000H</td>\n",
       "      <td>200036179</td>\n",
       "      <td>Montgomery County Police</td>\n",
       "      <td>Injury Crash</td>\n",
       "      <td>09/15/2020 03:33:00 PM</td>\n",
       "      <td>No</td>\n",
       "      <td>NaN</td>\n",
       "      <td>NaN</td>\n",
       "      <td>NaN</td>\n",
       "      <td>NaN</td>\n",
       "      <td>0</td>\n",
       "      <td>NaN</td>\n",
       "      <td>0</td>\n",
       "      <td>NaN</td>\n",
       "      <td>NaN</td>\n",
       "      <td>NaN</td>\n",
       "      <td>NaN</td>\n",
       "      <td>Yes</td>\n",
       "      <td>NaN</td>\n",
       "      <td>NaN</td>\n",
       "      <td>NaN</td>\n",
       "      <td>PARKING LOT @ 9827 BROOKRIDGE CT</td>\n",
       "      <td>NaN</td>\n",
       "      <td>NaN</td>\n",
       "      <td>DRIVER</td>\n",
       "      <td>STRAIGHT MOVEMENT ANGLE</td>\n",
       "      <td>CLEAR</td>\n",
       "      <td>NaN</td>\n",
       "      <td>DAYLIGHT</td>\n",
       "      <td>NO CONTROLS</td>\n",
       "      <td>NaN</td>\n",
       "      <td>NaN</td>\n",
       "      <td>OTHER VEHICLE</td>\n",
       "      <td>NaN</td>\n",
       "      <td>NaN</td>\n",
       "      <td>NaN</td>\n",
       "      <td>NaN</td>\n",
       "      <td>NaN</td>\n",
       "      <td>NaN</td>\n",
       "      <td>NaN</td>\n",
       "      <td>NaN</td>\n",
       "      <td>39.188862</td>\n",
       "      <td>-77.202455</td>\n",
       "      <td>(39.18886167, -77.202455)</td>\n",
       "    </tr>\n",
       "    <tr>\n",
       "      <th>3</th>\n",
       "      <td>HA23890011</td>\n",
       "      <td>20002466</td>\n",
       "      <td>Maryland-National Capital</td>\n",
       "      <td>Property Damage Crash</td>\n",
       "      <td>10/14/2020 08:40:00 AM</td>\n",
       "      <td>No</td>\n",
       "      <td>NaN</td>\n",
       "      <td>NaN</td>\n",
       "      <td>NaN</td>\n",
       "      <td>NaN</td>\n",
       "      <td>0</td>\n",
       "      <td>NaN</td>\n",
       "      <td>0</td>\n",
       "      <td>NaN</td>\n",
       "      <td>NaN</td>\n",
       "      <td>NaN</td>\n",
       "      <td>NaN</td>\n",
       "      <td>Yes</td>\n",
       "      <td>NaN</td>\n",
       "      <td>NaN</td>\n",
       "      <td>NaN</td>\n",
       "      <td>GRAVEL PARKING LOT AT POPE FARM NURSERY</td>\n",
       "      <td>NaN</td>\n",
       "      <td>NaN</td>\n",
       "      <td>UNKNOWN</td>\n",
       "      <td>NaN</td>\n",
       "      <td>NaN</td>\n",
       "      <td>NaN</td>\n",
       "      <td>DAYLIGHT</td>\n",
       "      <td>NaN</td>\n",
       "      <td>NaN</td>\n",
       "      <td>NaN</td>\n",
       "      <td>UNITS SEPARATED</td>\n",
       "      <td>NaN</td>\n",
       "      <td>NaN</td>\n",
       "      <td>NaN</td>\n",
       "      <td>NaN</td>\n",
       "      <td>NaN</td>\n",
       "      <td>NaN</td>\n",
       "      <td>NaN</td>\n",
       "      <td>NaN</td>\n",
       "      <td>39.158697</td>\n",
       "      <td>-77.146791</td>\n",
       "      <td>(39.15869731, -77.14679055)</td>\n",
       "    </tr>\n",
       "    <tr>\n",
       "      <th>4</th>\n",
       "      <td>MCP3090003Z</td>\n",
       "      <td>200010527</td>\n",
       "      <td>Montgomery County Police</td>\n",
       "      <td>Property Damage Crash</td>\n",
       "      <td>03/03/2020 09:19:00 AM</td>\n",
       "      <td>No</td>\n",
       "      <td>NaN</td>\n",
       "      <td>NaN</td>\n",
       "      <td>NaN</td>\n",
       "      <td>NaN</td>\n",
       "      <td>0</td>\n",
       "      <td>NaN</td>\n",
       "      <td>0</td>\n",
       "      <td>NaN</td>\n",
       "      <td>NaN</td>\n",
       "      <td>NaN</td>\n",
       "      <td>NaN</td>\n",
       "      <td>Yes</td>\n",
       "      <td>NaN</td>\n",
       "      <td>NaN</td>\n",
       "      <td>NaN</td>\n",
       "      <td>PARKING LOT OF 16705 CRABBS BRANCH WAY</td>\n",
       "      <td>NaN</td>\n",
       "      <td>NaN</td>\n",
       "      <td>DRIVER</td>\n",
       "      <td>SINGLE VEHICLE</td>\n",
       "      <td>CLOUDY</td>\n",
       "      <td>NaN</td>\n",
       "      <td>DAYLIGHT</td>\n",
       "      <td>NaN</td>\n",
       "      <td>NaN</td>\n",
       "      <td>NaN</td>\n",
       "      <td>OTHER OBJECT</td>\n",
       "      <td>NaN</td>\n",
       "      <td>OTHER</td>\n",
       "      <td>NaN</td>\n",
       "      <td>NaN</td>\n",
       "      <td>NaN</td>\n",
       "      <td>NaN</td>\n",
       "      <td>NaN</td>\n",
       "      <td>NaN</td>\n",
       "      <td>39.129216</td>\n",
       "      <td>-77.167342</td>\n",
       "      <td>(39.1292155, -77.16734233)</td>\n",
       "    </tr>\n",
       "  </tbody>\n",
       "</table>\n",
       "</div>"
      ],
      "text/plain": [
       "  Report Number Local Case Number  ...  Longitude                     Location\n",
       "0   MCP3048005T         190046316  ... -77.136785        (39.0267, -77.136785)\n",
       "1    EJ78460055         200017938  ... -77.229616   (39.14795617, -77.2296164)\n",
       "2   MCP3245000H         200036179  ... -77.202455    (39.18886167, -77.202455)\n",
       "3    HA23890011          20002466  ... -77.146791  (39.15869731, -77.14679055)\n",
       "4   MCP3090003Z         200010527  ... -77.167342   (39.1292155, -77.16734233)\n",
       "\n",
       "[5 rows x 44 columns]"
      ]
     },
     "execution_count": 5,
     "metadata": {
      "tags": []
     },
     "output_type": "execute_result"
    }
   ],
   "source": [
    "# previe of dataset\n",
    "df_raw.head()"
   ]
  },
  {
   "cell_type": "code",
   "execution_count": 6,
   "metadata": {
    "colab": {
     "base_uri": "https://localhost:8080/"
    },
    "id": "0OOONnMjq9o4",
    "outputId": "014e7b36-368d-4504-ff7f-ee0c7f2289d4"
   },
   "outputs": [
    {
     "name": "stdout",
     "output_type": "stream",
     "text": [
      "Dimensions of raw dataset: 71366 rows and 44 columns\n"
     ]
    }
   ],
   "source": [
    "# dimensions of dataset\n",
    "print('Dimensions of raw dataset: {} rows and {} columns'.format(df_raw.shape[0], df_raw.shape[1]))"
   ]
  },
  {
   "cell_type": "markdown",
   "metadata": {
    "id": "C4F5TNsq0Xss"
   },
   "source": [
    "## Features"
   ]
  },
  {
   "cell_type": "code",
   "execution_count": 7,
   "metadata": {
    "colab": {
     "base_uri": "https://localhost:8080/"
    },
    "id": "y5MJAscuwg2A",
    "outputId": "2b6f8c96-6cac-448a-8b30-3cae1a6c58fb"
   },
   "outputs": [
    {
     "name": "stdout",
     "output_type": "stream",
     "text": [
      "<class 'pandas.core.frame.DataFrame'>\n",
      "RangeIndex: 71366 entries, 0 to 71365\n",
      "Data columns (total 44 columns):\n",
      " #   Column                        Non-Null Count  Dtype  \n",
      "---  ------                        --------------  -----  \n",
      " 0   Report Number                 71366 non-null  object \n",
      " 1   Local Case Number             71366 non-null  object \n",
      " 2   Agency Name                   71366 non-null  object \n",
      " 3   ACRS Report Type              71366 non-null  object \n",
      " 4   Crash Date/Time               71366 non-null  object \n",
      " 5   Hit/Run                       71364 non-null  object \n",
      " 6   Route Type                    61868 non-null  object \n",
      " 7   Mile Point                    62276 non-null  float64\n",
      " 8   Mile Point Direction          61884 non-null  object \n",
      " 9   Lane Direction                62287 non-null  object \n",
      " 10  Lane Number                   71366 non-null  int64  \n",
      " 11  Lane Type                     6925 non-null   object \n",
      " 12  Number of Lanes               71366 non-null  int64  \n",
      " 13  Direction                     62276 non-null  object \n",
      " 14  Distance                      64141 non-null  float64\n",
      " 15  Distance Unit                 62286 non-null  object \n",
      " 16  Road Grade                    61800 non-null  object \n",
      " 17  NonTraffic                    71366 non-null  object \n",
      " 18  Road Name                     62286 non-null  object \n",
      " 19  Cross-Street Type             61857 non-null  object \n",
      " 20  Cross-Street Name             62281 non-null  object \n",
      " 21  Off-Road Description          9079 non-null   object \n",
      " 22  Municipality                  7589 non-null   object \n",
      " 23  Related Non-Motorist          3874 non-null   object \n",
      " 24  At Fault                      71366 non-null  object \n",
      " 25  Collision Type                71010 non-null  object \n",
      " 26  Weather                       65398 non-null  object \n",
      " 27  Surface Condition             60500 non-null  object \n",
      " 28  Light                         70778 non-null  object \n",
      " 29  Traffic Control               58615 non-null  object \n",
      " 30  Driver Substance Abuse        59943 non-null  object \n",
      " 31  Non-Motorist Substance Abuse  3080 non-null   object \n",
      " 32  First Harmful Event           70954 non-null  object \n",
      " 33  Second Harmful Event          17879 non-null  object \n",
      " 34  Fixed Oject Struck            15011 non-null  object \n",
      " 35  Junction                      52407 non-null  object \n",
      " 36  Intersection Type             35033 non-null  object \n",
      " 37  Intersection Area             19911 non-null  object \n",
      " 38  Road Alignment                61968 non-null  object \n",
      " 39  Road Condition                59632 non-null  object \n",
      " 40  Road Division                 61366 non-null  object \n",
      " 41  Latitude                      71366 non-null  float64\n",
      " 42  Longitude                     71366 non-null  float64\n",
      " 43  Location                      71366 non-null  object \n",
      "dtypes: float64(4), int64(2), object(38)\n",
      "memory usage: 24.0+ MB\n"
     ]
    }
   ],
   "source": [
    "# observing the non-null count and data type of each feature\n",
    "df_raw.info()"
   ]
  },
  {
   "cell_type": "markdown",
   "metadata": {
    "id": "YsmAlD72m2kk"
   },
   "source": [
    "It is clear that the dataset is relatively large with 71366 rows and 44 columns. However, due to the large number of null values, some of the features will have to be removed entirely. The remaining missing values will simply be replaced."
   ]
  },
  {
   "cell_type": "markdown",
   "metadata": {
    "id": "J84JvKnW0hZb"
   },
   "source": [
    "# Data Cleaning For Inferential and Descriptive Statistics"
   ]
  },
  {
   "cell_type": "markdown",
   "metadata": {
    "id": "4s2os29inbD0"
   },
   "source": [
    "Before attempting to remove all the null values, it is important to address all the observations with features being assigned the value 'UNKNOWN'. This value is equivalent to a null value in most cases and is therefore converted to a null value prior to any removal of features or samples. \n"
   ]
  },
  {
   "cell_type": "code",
   "execution_count": 8,
   "metadata": {
    "id": "GUu_H-Z00jk3"
   },
   "outputs": [],
   "source": [
    "# creating a copy of the raw dataset for preprocessing\n",
    "df = df_raw.copy(deep=True)"
   ]
  },
  {
   "cell_type": "code",
   "execution_count": 9,
   "metadata": {
    "id": "pc0xFsuk43l_"
   },
   "outputs": [],
   "source": [
    "# create a function that replaces the string 'Unknown' with NaN\n",
    "def replace_unknown(value):\n",
    "    if value == 'Unknown' or value == 'UNKNOWN':\n",
    "      return float('NaN')\n",
    "    else:\n",
    "      return value\n",
    "# apply the replace_unknown function on all the columns in the dataset. \n",
    "for col in df.columns:\n",
    "  df[col] = df[col].apply(lambda x: replace_unknown(x))"
   ]
  },
  {
   "cell_type": "code",
   "execution_count": 10,
   "metadata": {
    "colab": {
     "base_uri": "https://localhost:8080/",
     "height": 493
    },
    "id": "lBNdkyTPvwRR",
    "outputId": "f0f43808-c955-48b3-c79a-ce8f483c9474"
   },
   "outputs": [
    {
     "data": {
      "image/png": "[encoded data removed]",
      "text/plain": [
       "<Figure size 720x360 with 1 Axes>"
      ]
     },
     "metadata": {
      "needs_background": "light",
      "tags": []
     },
     "output_type": "display_data"
    }
   ],
   "source": [
    "# find the % of missing values of each feature\n",
    "missing_proportion = pd.DataFrame(df.isnull().sum()/df.shape[0]*100)\n",
    "missing_proportion = missing_proportion.sort_values(by=missing_proportion.columns[0], ascending=False)\n",
    "\n",
    "# plot the % of missing values of each feature\n",
    "plt.figure(figsize=(10,5))\n",
    "sns.barplot(missing_proportion.index,missing_proportion.iloc[:,0])\n",
    "plt.ylabel('% of missing values')\n",
    "plt.xlabel('Feature')\n",
    "plt.title('Proportion of Missing Values For Each Label')\n",
    "plt.xticks(rotation=90)\n",
    "plt.axhline(y=50,linewidth=1, color='red', linestyle='--')\n",
    "plt.show()"
   ]
  },
  {
   "cell_type": "markdown",
   "metadata": {
    "id": "TVN--4ETUckZ"
   },
   "source": [
    "Next, features with too high of a proportion of null values should be ommited as they do not contribute to the study. For this scenario, any feature with missing values in more than 50% of the samples will be removed from the dataset altogether. As shown by the bar chart above, 9 features meet this standard. "
   ]
  },
  {
   "cell_type": "markdown",
   "metadata": {
    "id": "xRoeRNs70ydd"
   },
   "source": [
    "## Step 1: Remove Unwanted Features"
   ]
  },
  {
   "cell_type": "markdown",
   "metadata": {
    "id": "Bl1taORAozsE"
   },
   "source": [
    "All unwanted features will be removed from the dataset. This includes the aforementioned features with too many missing values as well as features that do not relay any valuable information or do not have any relevance to the study of the hit and run cases in Montgomery County. "
   ]
  },
  {
   "cell_type": "code",
   "execution_count": 11,
   "metadata": {
    "id": "DhzEEYQB031P"
   },
   "outputs": [],
   "source": [
    "# find features with more than 50% missing values\n",
    "unwanted_features = list(missing_proportion[missing_proportion[missing_proportion.columns[0]]>50].index)\n",
    "# find features that stored irrelevant or insignifant data\n",
    "unwanted_features.extend(['Report Number', 'Local Case Number', 'Agency Name', 'Mile Point',\n",
    "       'Mile Point Direction', 'Lane Direction', 'Lane Number', 'Distance', 'Distance Unit', 'Road Name'\n",
    "       ,'Cross-Street Type','Cross-Street Name', 'At Fault', 'Off-Road Description',  'Driver Substance Abuse', 'Non-Motorist Substance Abuse', \n",
    "       'Route Type','Road Condition', 'Latitude', 'Longitude', 'Location'])\n",
    "unwanted_features = list(set(unwanted_features))"
   ]
  },
  {
   "cell_type": "code",
   "execution_count": 12,
   "metadata": {
    "colab": {
     "base_uri": "https://localhost:8080/"
    },
    "id": "nU2-CSWH1CMQ",
    "outputId": "167d8ff5-c891-4ece-f28a-6a4a2fe81376"
   },
   "outputs": [
    {
     "name": "stdout",
     "output_type": "stream",
     "text": [
      "Dimensions of dataset: 71366 rows and 16 columns\n"
     ]
    }
   ],
   "source": [
    "# drop all unwanted features\n",
    "df = df.drop(unwanted_features, axis=1)\n",
    "print('Dimensions of dataset: {} rows and {} columns'.format(df.shape[0], df.shape[1]))"
   ]
  },
  {
   "cell_type": "markdown",
   "metadata": {
    "id": "-5DJuWRr4oH4"
   },
   "source": [
    "## Step 2: Remove/Replace Missing Values"
   ]
  },
  {
   "cell_type": "markdown",
   "metadata": {
    "id": "PJy1g29xpbv8"
   },
   "source": [
    "Next, the missing values in the remaining features will be dealt with. For the sake of preserving data, the missing values of each feature is replaced by the mode of that feature. "
   ]
  },
  {
   "cell_type": "code",
   "execution_count": 13,
   "metadata": {
    "colab": {
     "base_uri": "https://localhost:8080/"
    },
    "id": "ZINTcUCN729U",
    "outputId": "e03d969c-2d8e-448e-d5b2-0c17664bf3c5"
   },
   "outputs": [
    {
     "data": {
      "text/plain": [
       "ACRS Report Type           0\n",
       "Crash Date/Time            0\n",
       "Hit/Run                    2\n",
       "Number of Lanes            0\n",
       "Direction               9120\n",
       "Road Grade              9660\n",
       "NonTraffic                 0\n",
       "Collision Type           884\n",
       "Weather                 6424\n",
       "Surface Condition      11164\n",
       "Light                   1099\n",
       "Traffic Control        12907\n",
       "First Harmful Event      549\n",
       "Junction               19019\n",
       "Road Alignment          9477\n",
       "Road Division          10063\n",
       "dtype: int64"
      ]
     },
     "execution_count": 13,
     "metadata": {
      "tags": []
     },
     "output_type": "execute_result"
    }
   ],
   "source": [
    "# find the number of null values for each feature\n",
    "df.isnull().sum()"
   ]
  },
  {
   "cell_type": "code",
   "execution_count": 14,
   "metadata": {
    "id": "2-Bht9PR4t1-"
   },
   "outputs": [],
   "source": [
    "# Replace every feature except for 'Hit/Run' with the mode value\n",
    "for col in df.columns:\n",
    "  if col != 'Hit/Run':\n",
    "    df[col] = df[col].fillna(df[col].mode()[0])"
   ]
  },
  {
   "cell_type": "markdown",
   "metadata": {
    "id": "AYQGdISAp2L9"
   },
   "source": [
    "## Step 3: Dealing With Features With Too Many Categories"
   ]
  },
  {
   "cell_type": "markdown",
   "metadata": {
    "id": "WCoLfRsOqPl9"
   },
   "source": [
    "Features with too many categories can be detrimental to the data modeling procedure since the less popular categories will be deemed to be negligible. For that reason, categories that make up less than 5% of the total observations will be replaced by the category named 'OTHER'. This only applies to features that have more than 3 categories. \n",
    "\n",
    "Note: This step does not apply to the 'Crash Date/Time' column. This feature will be handled seperately."
   ]
  },
  {
   "cell_type": "code",
   "execution_count": 15,
   "metadata": {
    "id": "EYGXok_O8bqz"
   },
   "outputs": [],
   "source": [
    "changing_classes = pd.DataFrame()\n",
    "# finding number of categories in each feature\n",
    "changing_classes['Feature'] = df.columns\n",
    "changing_classes['Number of Categories Before Immutation'] = [len(df[feature].value_counts()) for feature in df.columns]\n",
    "\n",
    "# finding the features that have more than 3 categories\n",
    "too_many_classes = list(changing_classes[changing_classes['Number of Categories Before Immutation']>3]['Feature'])\n"
   ]
  },
  {
   "cell_type": "code",
   "execution_count": 16,
   "metadata": {
    "id": "SRBMHQLK_cHD"
   },
   "outputs": [],
   "source": [
    "# replacing categories that make up less than 5% of the observations with 'OTHER'\n",
    "for feature in df.columns:\n",
    "  if feature in too_many_classes and feature != 'Crash Date/Time':\n",
    "    count = df[feature].value_counts()\n",
    "    count_percent = (count/len(df))*100\n",
    "    keep_classes = [i for i, val in enumerate(count_percent) if val >= 5]\n",
    "    good_classes = list(count[keep_classes].index)\n",
    "    df[feature] = df[feature].apply(lambda x: x if x in good_classes else 'OTHER')"
   ]
  },
  {
   "cell_type": "code",
   "execution_count": 17,
   "metadata": {
    "colab": {
     "base_uri": "https://localhost:8080/",
     "height": 542
    },
    "id": "rJKuvnnsA_vY",
    "outputId": "fb5a74c8-bbc4-4242-b466-cac62c779275"
   },
   "outputs": [
    {
     "data": {
      "text/html": [
       "<div>\n",
       "<style scoped>\n",
       "    .dataframe tbody tr th:only-of-type {\n",
       "        vertical-align: middle;\n",
       "    }\n",
       "\n",
       "    .dataframe tbody tr th {\n",
       "        vertical-align: top;\n",
       "    }\n",
       "\n",
       "    .dataframe thead th {\n",
       "        text-align: right;\n",
       "    }\n",
       "</style>\n",
       "<table border=\"1\" class=\"dataframe\">\n",
       "  <thead>\n",
       "    <tr style=\"text-align: right;\">\n",
       "      <th></th>\n",
       "      <th>Feature</th>\n",
       "      <th>Number of Categories Before Immutation</th>\n",
       "      <th>Number of Categories After Immutation</th>\n",
       "    </tr>\n",
       "  </thead>\n",
       "  <tbody>\n",
       "    <tr>\n",
       "      <th>0</th>\n",
       "      <td>ACRS Report Type</td>\n",
       "      <td>3</td>\n",
       "      <td>3</td>\n",
       "    </tr>\n",
       "    <tr>\n",
       "      <th>1</th>\n",
       "      <td>Crash Date/Time</td>\n",
       "      <td>69610</td>\n",
       "      <td>69610</td>\n",
       "    </tr>\n",
       "    <tr>\n",
       "      <th>2</th>\n",
       "      <td>Hit/Run</td>\n",
       "      <td>2</td>\n",
       "      <td>2</td>\n",
       "    </tr>\n",
       "    <tr>\n",
       "      <th>3</th>\n",
       "      <td>Number of Lanes</td>\n",
       "      <td>15</td>\n",
       "      <td>6</td>\n",
       "    </tr>\n",
       "    <tr>\n",
       "      <th>4</th>\n",
       "      <td>Direction</td>\n",
       "      <td>4</td>\n",
       "      <td>4</td>\n",
       "    </tr>\n",
       "    <tr>\n",
       "      <th>5</th>\n",
       "      <td>Road Grade</td>\n",
       "      <td>7</td>\n",
       "      <td>4</td>\n",
       "    </tr>\n",
       "    <tr>\n",
       "      <th>6</th>\n",
       "      <td>NonTraffic</td>\n",
       "      <td>2</td>\n",
       "      <td>2</td>\n",
       "    </tr>\n",
       "    <tr>\n",
       "      <th>7</th>\n",
       "      <td>Collision Type</td>\n",
       "      <td>17</td>\n",
       "      <td>6</td>\n",
       "    </tr>\n",
       "    <tr>\n",
       "      <th>8</th>\n",
       "      <td>Weather</td>\n",
       "      <td>11</td>\n",
       "      <td>4</td>\n",
       "    </tr>\n",
       "    <tr>\n",
       "      <th>9</th>\n",
       "      <td>Surface Condition</td>\n",
       "      <td>10</td>\n",
       "      <td>3</td>\n",
       "    </tr>\n",
       "    <tr>\n",
       "      <th>10</th>\n",
       "      <td>Light</td>\n",
       "      <td>7</td>\n",
       "      <td>3</td>\n",
       "    </tr>\n",
       "    <tr>\n",
       "      <th>11</th>\n",
       "      <td>Traffic Control</td>\n",
       "      <td>10</td>\n",
       "      <td>4</td>\n",
       "    </tr>\n",
       "    <tr>\n",
       "      <th>12</th>\n",
       "      <td>First Harmful Event</td>\n",
       "      <td>24</td>\n",
       "      <td>4</td>\n",
       "    </tr>\n",
       "    <tr>\n",
       "      <th>13</th>\n",
       "      <td>Junction</td>\n",
       "      <td>11</td>\n",
       "      <td>4</td>\n",
       "    </tr>\n",
       "    <tr>\n",
       "      <th>14</th>\n",
       "      <td>Road Alignment</td>\n",
       "      <td>4</td>\n",
       "      <td>4</td>\n",
       "    </tr>\n",
       "    <tr>\n",
       "      <th>15</th>\n",
       "      <td>Road Division</td>\n",
       "      <td>6</td>\n",
       "      <td>4</td>\n",
       "    </tr>\n",
       "  </tbody>\n",
       "</table>\n",
       "</div>"
      ],
      "text/plain": [
       "                Feature  ...  Number of Categories After Immutation\n",
       "0      ACRS Report Type  ...                                      3\n",
       "1       Crash Date/Time  ...                                  69610\n",
       "2               Hit/Run  ...                                      2\n",
       "3       Number of Lanes  ...                                      6\n",
       "4             Direction  ...                                      4\n",
       "5            Road Grade  ...                                      4\n",
       "6            NonTraffic  ...                                      2\n",
       "7        Collision Type  ...                                      6\n",
       "8               Weather  ...                                      4\n",
       "9     Surface Condition  ...                                      3\n",
       "10                Light  ...                                      3\n",
       "11      Traffic Control  ...                                      4\n",
       "12  First Harmful Event  ...                                      4\n",
       "13             Junction  ...                                      4\n",
       "14       Road Alignment  ...                                      4\n",
       "15        Road Division  ...                                      4\n",
       "\n",
       "[16 rows x 3 columns]"
      ]
     },
     "execution_count": 17,
     "metadata": {
      "tags": []
     },
     "output_type": "execute_result"
    }
   ],
   "source": [
    "# showing the change in the number of categories for each feature after immutation\n",
    "changing_classes['Number of Categories After Immutation'] = [len(df[feature].value_counts()) for feature in df.columns]\n",
    "changing_classes"
   ]
  },
  {
   "cell_type": "code",
   "execution_count": 18,
   "metadata": {
    "id": "bphddJHACWo9"
   },
   "outputs": [],
   "source": [
    "# Remove rows where the 'Hit/Run' feature is assigned 'OTHER'\n",
    "df = df[df['Hit/Run'] != 'OTHER']\n",
    "df = df[df['Number of Lanes'] != 'OTHER']"
   ]
  },
  {
   "cell_type": "markdown",
   "metadata": {
    "id": "nEmrjyCAArUN"
   },
   "source": [
    "## Deal with datetime variables"
   ]
  },
  {
   "cell_type": "code",
   "execution_count": 19,
   "metadata": {
    "id": "H4pFStzXAqwj"
   },
   "outputs": [],
   "source": [
    "# Convert 'Crash Date/Time' feature to a datetime variable and store the year, month, day, and hour into separate columns\n",
    "df['Crash Date/Time'] = pd.to_datetime(df['Crash Date/Time'])\n",
    "df['Year'] = df['Crash Date/Time'].dt.year\n",
    "df['Month'] = df['Crash Date/Time'].dt.month\n",
    "df['Day'] = df['Crash Date/Time'].dt.day\n",
    "df['Hour'] = df['Crash Date/Time'].dt.hour"
   ]
  },
  {
   "cell_type": "markdown",
   "metadata": {
    "id": "--VWf8jG0SFW"
   },
   "source": [
    "## Save the dataset"
   ]
  },
  {
   "cell_type": "markdown",
   "metadata": {
    "id": "QrE-zMya0gJs"
   },
   "source": [
    "After completing the data cleaning procedure, a copy of the dataset is made. This copy will later be exported in order to present descriptive statistics using Tableau. "
   ]
  },
  {
   "cell_type": "code",
   "execution_count": 20,
   "metadata": {
    "id": "Cvri5NEg0WsU"
   },
   "outputs": [],
   "source": [
    "# save the dataframe in a different copy \n",
    "df_clean = df.copy(deep=True)\n",
    "df_clean.dropna(inplace=True)"
   ]
  },
  {
   "cell_type": "markdown",
   "metadata": {
    "id": "a6trxGocaTge"
   },
   "source": [
    "# Inferrential Statistics"
   ]
  },
  {
   "cell_type": "markdown",
   "metadata": {
    "id": "PmJ0Bem1aci8"
   },
   "source": [
    "It would be ideal to identify the factors that weigh most influence over a driver's decision or ability to commit a hit and run. Out of all the information recorded by the police department, the ACRS report type (the damage from the crash) seems to be the most insightful. It is reasonable for drivers to make their decision to hit and run based on the outcome of their crash. For example, a driver could cause a horrific collision and then chose to leave the scene due to fear or panic. This portion of the study will find evidence of dependency between the damage done by a collision and the corresponding hit and run outcome using the chi-square test for independence. \n",
    "\n"
   ]
  },
  {
   "cell_type": "markdown",
   "metadata": {
    "id": "X5CyJ-IPakKm"
   },
   "source": [
    "**Research Question: Does the outcome of a crash affect a driver's subsequent decision to perform a hit and run?**\n",
    "\n",
    "\n",
    "Hypothesis test: Chi-Square test for independence\n",
    "\n",
    "Null Hypothesis: The damage caused by the crash does not affect a driver's decision to hit and run\n",
    "\n",
    "Alternative Hypothesis: The damage caused by the crash does affect a driver's decision to hit and run"
   ]
  },
  {
   "cell_type": "code",
   "execution_count": 21,
   "metadata": {
    "colab": {
     "base_uri": "https://localhost:8080/",
     "height": 172
    },
    "id": "szbYLl_aaz12",
    "outputId": "f5ee0684-8c5e-4427-8fa9-8eafab1cc45f"
   },
   "outputs": [
    {
     "data": {
      "text/html": [
       "<div>\n",
       "<style scoped>\n",
       "    .dataframe tbody tr th:only-of-type {\n",
       "        vertical-align: middle;\n",
       "    }\n",
       "\n",
       "    .dataframe tbody tr th {\n",
       "        vertical-align: top;\n",
       "    }\n",
       "\n",
       "    .dataframe thead th {\n",
       "        text-align: right;\n",
       "    }\n",
       "</style>\n",
       "<table border=\"1\" class=\"dataframe\">\n",
       "  <thead>\n",
       "    <tr style=\"text-align: right;\">\n",
       "      <th>Hit/Run</th>\n",
       "      <th>No</th>\n",
       "      <th>Yes</th>\n",
       "    </tr>\n",
       "    <tr>\n",
       "      <th>ACRS Report Type</th>\n",
       "      <th></th>\n",
       "      <th></th>\n",
       "    </tr>\n",
       "  </thead>\n",
       "  <tbody>\n",
       "    <tr>\n",
       "      <th>Fatal Crash</th>\n",
       "      <td>177</td>\n",
       "      <td>10</td>\n",
       "    </tr>\n",
       "    <tr>\n",
       "      <th>Injury Crash</th>\n",
       "      <td>22604</td>\n",
       "      <td>1565</td>\n",
       "    </tr>\n",
       "    <tr>\n",
       "      <th>Property Damage Crash</th>\n",
       "      <td>34168</td>\n",
       "      <td>10619</td>\n",
       "    </tr>\n",
       "  </tbody>\n",
       "</table>\n",
       "</div>"
      ],
      "text/plain": [
       "Hit/Run                   No    Yes\n",
       "ACRS Report Type                   \n",
       "Fatal Crash              177     10\n",
       "Injury Crash           22604   1565\n",
       "Property Damage Crash  34168  10619"
      ]
     },
     "execution_count": 21,
     "metadata": {
      "tags": []
     },
     "output_type": "execute_result"
    }
   ],
   "source": [
    "chi_sq_table = pd.crosstab(df['ACRS Report Type'], df['Hit/Run'])\n",
    "chi_sq_table"
   ]
  },
  {
   "cell_type": "code",
   "execution_count": 22,
   "metadata": {
    "colab": {
     "base_uri": "https://localhost:8080/"
    },
    "id": "J7qYFefvbpni",
    "outputId": "69d7c984-1382-49ce-b75d-13543e27ac84"
   },
   "outputs": [
    {
     "name": "stdout",
     "output_type": "stream",
     "text": [
      "Test statistic:  3229.556056934531\n",
      "P-value:  0.0\n",
      "Reject the null hypothesis. The damage caused by the crash does affect a driver's decision to hit and run.\n"
     ]
    }
   ],
   "source": [
    "# compute the test statistic and p-value \n",
    "chi_stat, p_val, degree_freedom, exp = chi2_contingency(chi_sq_table)\n",
    "\n",
    "# reject the null hypothesis if the p-value is below 0.05\n",
    "if p_val < 0.05:\n",
    "  print('Test statistic: ',chi_stat)\n",
    "  print('P-value: ',p_val)\n",
    "  print(\"Reject the null hypothesis. The damage caused by the crash does affect a driver's decision to hit and run.\")\n",
    "# do not reject the null hypothesis if the p-value is above 0.05\n",
    "else:\n",
    "  print('Test statistic: ',chi_stat)\n",
    "  print('P-value: ',p_val)\n",
    "  print(\"Do not reject the null hypothesis. There is not sufficient evidence to prove that the damage caused by the crash affects a driver's decision to hit and run.\")"
   ]
  },
  {
   "cell_type": "markdown",
   "metadata": {
    "id": "twKYQgd-tJj8"
   },
   "source": [
    "Given the negligible p-value from the chi-square test, there is sufficient evidence to prove that the type of crash does affect a driver's decision to hit and run. The table above suggests that drivers are most likely to hit and run when their crash results in property damage. On the other hand, they are least likely to hit and run when their crash leads to a fatality. "
   ]
  },
  {
   "cell_type": "markdown",
   "metadata": {
    "id": "U4hngQph1Nsc"
   },
   "source": [
    "# Predictive Modeling"
   ]
  },
  {
   "cell_type": "markdown",
   "metadata": {
    "id": "XmdHgNAXuuvI"
   },
   "source": [
    "A robust model that can predict hit and run outcomes can provide much more insight into the features that impact hit and run cases. Therefore, a predictive model that incorporates machine learning algorithms will be used to determine the features that have most influence over hit and run outcomes.\n",
    "\n",
    "In many cases, law enforcers and policy makers scrutinize the drivers when attempting to address hit and run cases. After all, such incidents occur due to the drivers' negligence or lapse of judgement. However, this portion of the study will explore this subject from a different angle. Could the infrastructure of roads play a role in the hit and run cases in Montgomery county? For example, if all main roads had sufficient lighting, drivers are much less likely to accidently crash into property or pedestrians. If this is corroborated by predictive models, investments could be made to reduce such incidents, thereby removing the incentive to commit a hit and run.\n"
   ]
  },
  {
   "cell_type": "markdown",
   "metadata": {
    "id": "WsFCFt8bcRir"
   },
   "source": [
    "**Research question: Would improving road conditions impact the likelihood of hit and run cases?**\n",
    "\n",
    "Hypothesis: Improving road conditions will play a significant role in the decreasing the likelihood of hit and run cases.\n",
    "\n",
    " \n",
    "\n",
    "\n"
   ]
  },
  {
   "cell_type": "markdown",
   "metadata": {
    "id": "bFfhEt5r298K"
   },
   "source": [
    "## Understanding the Target Label"
   ]
  },
  {
   "cell_type": "markdown",
   "metadata": {
    "id": "Lhmp1wFxxLuZ"
   },
   "source": [
    "The predictive models will use the 'Hit/Run' feature as the target label. As shown in the pie chart below, the hit and run cases only make up 17.6% of all the observations. This data imbalance leaves the predictive models prone to overfitting due to frequency bias. Measures will be taken in order to account for this issue. "
   ]
  },
  {
   "cell_type": "code",
   "execution_count": 23,
   "metadata": {
    "colab": {
     "base_uri": "https://localhost:8080/",
     "height": 325
    },
    "id": "bBOfHX3rdCOk",
    "outputId": "1751051c-40fe-4c37-c985-ae87a45eb727"
   },
   "outputs": [
    {
     "data": {
      "image/png": "[encoded data removed]",
      "text/plain": [
       "<Figure size 360x360 with 1 Axes>"
      ]
     },
     "metadata": {
      "tags": []
     },
     "output_type": "display_data"
    }
   ],
   "source": [
    "# plotting the proportion of cases with and without hit and runs\n",
    "plt.figure(figsize=(5,5))\n",
    "explode = [0.1,0.1]\n",
    "labels = df['Hit/Run'].value_counts().index\n",
    "plt.pie(df['Hit/Run'].value_counts(), explode=explode, labels=labels, autopct='%1.1f%%', shadow=True, textprops={'fontsize':18})\n",
    "plt.title('Hit/Run Outcomes', fontsize=21)\n",
    "plt.show()"
   ]
  },
  {
   "cell_type": "markdown",
   "metadata": {
    "id": "Jbn83L-YdFhz"
   },
   "source": [
    "## Preprocessing for predictive modeling"
   ]
  },
  {
   "cell_type": "markdown",
   "metadata": {
    "id": "nm6b14TQfyeW"
   },
   "source": [
    "### Encoding Categorical Variables"
   ]
  },
  {
   "cell_type": "markdown",
   "metadata": {
    "id": "GZb4yzxnxlag"
   },
   "source": [
    "Prior to feeding the data to a machine learning classifier, the categorical variables have to be converted to numbers. So, the 'Hit/Run' feature (the target label) is encoded with the label encoder, while the remaining categorical features are encoded with one-hot-encoding."
   ]
  },
  {
   "cell_type": "code",
   "execution_count": 24,
   "metadata": {
    "id": "BVfqOqBI9Nmk"
   },
   "outputs": [],
   "source": [
    "# Convert 'Hit/Run' column values to string\n",
    "df['Hit/Run'] = df['Hit/Run'].apply(lambda x: str(x))\n",
    "\n",
    "# remove 'Crash Date/Time' feature as it is redundant\n",
    "df = df.drop('Crash Date/Time', axis=1)"
   ]
  },
  {
   "cell_type": "code",
   "execution_count": 25,
   "metadata": {
    "id": "mC7h9H1MdJc5"
   },
   "outputs": [],
   "source": [
    "# Use label encoder to encode the target label\n",
    "le = LabelEncoder()\n",
    "df['Hit/Run'] = le.fit_transform(df['Hit/Run'])\n",
    "\n",
    "# perform one hot encoding for nominal features\n",
    "df = pd.get_dummies(df)"
   ]
  },
  {
   "cell_type": "code",
   "execution_count": 26,
   "metadata": {
    "colab": {
     "base_uri": "https://localhost:8080/",
     "height": 307
    },
    "id": "8RNLF10VeQBd",
    "outputId": "67a69359-2efd-44ed-ae0d-d0ccdce8b61d"
   },
   "outputs": [
    {
     "data": {
      "text/html": [
       "<div>\n",
       "<style scoped>\n",
       "    .dataframe tbody tr th:only-of-type {\n",
       "        vertical-align: middle;\n",
       "    }\n",
       "\n",
       "    .dataframe tbody tr th {\n",
       "        vertical-align: top;\n",
       "    }\n",
       "\n",
       "    .dataframe thead th {\n",
       "        text-align: right;\n",
       "    }\n",
       "</style>\n",
       "<table border=\"1\" class=\"dataframe\">\n",
       "  <thead>\n",
       "    <tr style=\"text-align: right;\">\n",
       "      <th></th>\n",
       "      <th>Hit/Run</th>\n",
       "      <th>Year</th>\n",
       "      <th>Month</th>\n",
       "      <th>Day</th>\n",
       "      <th>Hour</th>\n",
       "      <th>ACRS Report Type_Fatal Crash</th>\n",
       "      <th>ACRS Report Type_Injury Crash</th>\n",
       "      <th>ACRS Report Type_Property Damage Crash</th>\n",
       "      <th>Number of Lanes_0</th>\n",
       "      <th>Number of Lanes_1</th>\n",
       "      <th>Number of Lanes_2</th>\n",
       "      <th>Number of Lanes_3</th>\n",
       "      <th>Number of Lanes_4</th>\n",
       "      <th>Direction_East</th>\n",
       "      <th>Direction_North</th>\n",
       "      <th>Direction_South</th>\n",
       "      <th>Direction_West</th>\n",
       "      <th>Road Grade_GRADE DOWNHILL</th>\n",
       "      <th>Road Grade_HILL UPHILL</th>\n",
       "      <th>Road Grade_LEVEL</th>\n",
       "      <th>Road Grade_OTHER</th>\n",
       "      <th>NonTraffic_No</th>\n",
       "      <th>NonTraffic_Yes</th>\n",
       "      <th>Collision Type_HEAD ON LEFT TURN</th>\n",
       "      <th>Collision Type_OTHER</th>\n",
       "      <th>Collision Type_SAME DIR REAR END</th>\n",
       "      <th>Collision Type_SAME DIRECTION SIDESWIPE</th>\n",
       "      <th>Collision Type_SINGLE VEHICLE</th>\n",
       "      <th>Collision Type_STRAIGHT MOVEMENT ANGLE</th>\n",
       "      <th>Weather_CLEAR</th>\n",
       "      <th>Weather_CLOUDY</th>\n",
       "      <th>Weather_OTHER</th>\n",
       "      <th>Weather_RAINING</th>\n",
       "      <th>Surface Condition_DRY</th>\n",
       "      <th>Surface Condition_OTHER</th>\n",
       "      <th>Surface Condition_WET</th>\n",
       "      <th>Light_DARK LIGHTS ON</th>\n",
       "      <th>Light_DAYLIGHT</th>\n",
       "      <th>Light_OTHER</th>\n",
       "      <th>Traffic Control_NO CONTROLS</th>\n",
       "      <th>Traffic Control_OTHER</th>\n",
       "      <th>Traffic Control_STOP SIGN</th>\n",
       "      <th>Traffic Control_TRAFFIC SIGNAL</th>\n",
       "      <th>First Harmful Event_FIXED OBJECT</th>\n",
       "      <th>First Harmful Event_OTHER</th>\n",
       "      <th>First Harmful Event_OTHER VEHICLE</th>\n",
       "      <th>First Harmful Event_PARKED VEHICLE</th>\n",
       "      <th>Junction_INTERSECTION</th>\n",
       "      <th>Junction_INTERSECTION RELATED</th>\n",
       "      <th>Junction_NON INTERSECTION</th>\n",
       "      <th>Junction_OTHER</th>\n",
       "      <th>Road Alignment_CURVE LEFT</th>\n",
       "      <th>Road Alignment_CURVE RIGHT</th>\n",
       "      <th>Road Alignment_OTHER</th>\n",
       "      <th>Road Alignment_STRAIGHT</th>\n",
       "      <th>Road Division_OTHER</th>\n",
       "      <th>Road Division_TWO-WAY, DIVIDED, POSITIVE MEDIAN BARRIER</th>\n",
       "      <th>Road Division_TWO-WAY, DIVIDED, UNPROTECTED PAINTED MIN 4 FEET</th>\n",
       "      <th>Road Division_TWO-WAY, NOT DIVIDED</th>\n",
       "    </tr>\n",
       "  </thead>\n",
       "  <tbody>\n",
       "    <tr>\n",
       "      <th>0</th>\n",
       "      <td>0</td>\n",
       "      <td>2019</td>\n",
       "      <td>9</td>\n",
       "      <td>27</td>\n",
       "      <td>9</td>\n",
       "      <td>0</td>\n",
       "      <td>0</td>\n",
       "      <td>1</td>\n",
       "      <td>1</td>\n",
       "      <td>0</td>\n",
       "      <td>0</td>\n",
       "      <td>0</td>\n",
       "      <td>0</td>\n",
       "      <td>0</td>\n",
       "      <td>1</td>\n",
       "      <td>0</td>\n",
       "      <td>0</td>\n",
       "      <td>0</td>\n",
       "      <td>0</td>\n",
       "      <td>1</td>\n",
       "      <td>0</td>\n",
       "      <td>0</td>\n",
       "      <td>1</td>\n",
       "      <td>0</td>\n",
       "      <td>0</td>\n",
       "      <td>0</td>\n",
       "      <td>0</td>\n",
       "      <td>1</td>\n",
       "      <td>0</td>\n",
       "      <td>1</td>\n",
       "      <td>0</td>\n",
       "      <td>0</td>\n",
       "      <td>0</td>\n",
       "      <td>1</td>\n",
       "      <td>0</td>\n",
       "      <td>0</td>\n",
       "      <td>0</td>\n",
       "      <td>1</td>\n",
       "      <td>0</td>\n",
       "      <td>1</td>\n",
       "      <td>0</td>\n",
       "      <td>0</td>\n",
       "      <td>0</td>\n",
       "      <td>0</td>\n",
       "      <td>1</td>\n",
       "      <td>0</td>\n",
       "      <td>0</td>\n",
       "      <td>1</td>\n",
       "      <td>0</td>\n",
       "      <td>0</td>\n",
       "      <td>0</td>\n",
       "      <td>0</td>\n",
       "      <td>0</td>\n",
       "      <td>0</td>\n",
       "      <td>1</td>\n",
       "      <td>0</td>\n",
       "      <td>1</td>\n",
       "      <td>0</td>\n",
       "      <td>0</td>\n",
       "    </tr>\n",
       "    <tr>\n",
       "      <th>1</th>\n",
       "      <td>1</td>\n",
       "      <td>2020</td>\n",
       "      <td>5</td>\n",
       "      <td>2</td>\n",
       "      <td>14</td>\n",
       "      <td>0</td>\n",
       "      <td>0</td>\n",
       "      <td>1</td>\n",
       "      <td>1</td>\n",
       "      <td>0</td>\n",
       "      <td>0</td>\n",
       "      <td>0</td>\n",
       "      <td>0</td>\n",
       "      <td>0</td>\n",
       "      <td>1</td>\n",
       "      <td>0</td>\n",
       "      <td>0</td>\n",
       "      <td>0</td>\n",
       "      <td>0</td>\n",
       "      <td>1</td>\n",
       "      <td>0</td>\n",
       "      <td>0</td>\n",
       "      <td>1</td>\n",
       "      <td>0</td>\n",
       "      <td>0</td>\n",
       "      <td>0</td>\n",
       "      <td>0</td>\n",
       "      <td>0</td>\n",
       "      <td>1</td>\n",
       "      <td>1</td>\n",
       "      <td>0</td>\n",
       "      <td>0</td>\n",
       "      <td>0</td>\n",
       "      <td>1</td>\n",
       "      <td>0</td>\n",
       "      <td>0</td>\n",
       "      <td>0</td>\n",
       "      <td>1</td>\n",
       "      <td>0</td>\n",
       "      <td>1</td>\n",
       "      <td>0</td>\n",
       "      <td>0</td>\n",
       "      <td>0</td>\n",
       "      <td>0</td>\n",
       "      <td>0</td>\n",
       "      <td>0</td>\n",
       "      <td>1</td>\n",
       "      <td>1</td>\n",
       "      <td>0</td>\n",
       "      <td>0</td>\n",
       "      <td>0</td>\n",
       "      <td>0</td>\n",
       "      <td>0</td>\n",
       "      <td>0</td>\n",
       "      <td>1</td>\n",
       "      <td>0</td>\n",
       "      <td>1</td>\n",
       "      <td>0</td>\n",
       "      <td>0</td>\n",
       "    </tr>\n",
       "    <tr>\n",
       "      <th>2</th>\n",
       "      <td>0</td>\n",
       "      <td>2020</td>\n",
       "      <td>9</td>\n",
       "      <td>15</td>\n",
       "      <td>15</td>\n",
       "      <td>0</td>\n",
       "      <td>1</td>\n",
       "      <td>0</td>\n",
       "      <td>1</td>\n",
       "      <td>0</td>\n",
       "      <td>0</td>\n",
       "      <td>0</td>\n",
       "      <td>0</td>\n",
       "      <td>0</td>\n",
       "      <td>1</td>\n",
       "      <td>0</td>\n",
       "      <td>0</td>\n",
       "      <td>0</td>\n",
       "      <td>0</td>\n",
       "      <td>1</td>\n",
       "      <td>0</td>\n",
       "      <td>0</td>\n",
       "      <td>1</td>\n",
       "      <td>0</td>\n",
       "      <td>0</td>\n",
       "      <td>0</td>\n",
       "      <td>0</td>\n",
       "      <td>0</td>\n",
       "      <td>1</td>\n",
       "      <td>1</td>\n",
       "      <td>0</td>\n",
       "      <td>0</td>\n",
       "      <td>0</td>\n",
       "      <td>1</td>\n",
       "      <td>0</td>\n",
       "      <td>0</td>\n",
       "      <td>0</td>\n",
       "      <td>1</td>\n",
       "      <td>0</td>\n",
       "      <td>1</td>\n",
       "      <td>0</td>\n",
       "      <td>0</td>\n",
       "      <td>0</td>\n",
       "      <td>0</td>\n",
       "      <td>0</td>\n",
       "      <td>1</td>\n",
       "      <td>0</td>\n",
       "      <td>1</td>\n",
       "      <td>0</td>\n",
       "      <td>0</td>\n",
       "      <td>0</td>\n",
       "      <td>0</td>\n",
       "      <td>0</td>\n",
       "      <td>0</td>\n",
       "      <td>1</td>\n",
       "      <td>0</td>\n",
       "      <td>1</td>\n",
       "      <td>0</td>\n",
       "      <td>0</td>\n",
       "    </tr>\n",
       "    <tr>\n",
       "      <th>3</th>\n",
       "      <td>0</td>\n",
       "      <td>2020</td>\n",
       "      <td>10</td>\n",
       "      <td>14</td>\n",
       "      <td>8</td>\n",
       "      <td>0</td>\n",
       "      <td>0</td>\n",
       "      <td>1</td>\n",
       "      <td>1</td>\n",
       "      <td>0</td>\n",
       "      <td>0</td>\n",
       "      <td>0</td>\n",
       "      <td>0</td>\n",
       "      <td>0</td>\n",
       "      <td>1</td>\n",
       "      <td>0</td>\n",
       "      <td>0</td>\n",
       "      <td>0</td>\n",
       "      <td>0</td>\n",
       "      <td>1</td>\n",
       "      <td>0</td>\n",
       "      <td>0</td>\n",
       "      <td>1</td>\n",
       "      <td>0</td>\n",
       "      <td>0</td>\n",
       "      <td>1</td>\n",
       "      <td>0</td>\n",
       "      <td>0</td>\n",
       "      <td>0</td>\n",
       "      <td>1</td>\n",
       "      <td>0</td>\n",
       "      <td>0</td>\n",
       "      <td>0</td>\n",
       "      <td>1</td>\n",
       "      <td>0</td>\n",
       "      <td>0</td>\n",
       "      <td>0</td>\n",
       "      <td>1</td>\n",
       "      <td>0</td>\n",
       "      <td>1</td>\n",
       "      <td>0</td>\n",
       "      <td>0</td>\n",
       "      <td>0</td>\n",
       "      <td>0</td>\n",
       "      <td>1</td>\n",
       "      <td>0</td>\n",
       "      <td>0</td>\n",
       "      <td>1</td>\n",
       "      <td>0</td>\n",
       "      <td>0</td>\n",
       "      <td>0</td>\n",
       "      <td>0</td>\n",
       "      <td>0</td>\n",
       "      <td>0</td>\n",
       "      <td>1</td>\n",
       "      <td>0</td>\n",
       "      <td>1</td>\n",
       "      <td>0</td>\n",
       "      <td>0</td>\n",
       "    </tr>\n",
       "    <tr>\n",
       "      <th>4</th>\n",
       "      <td>0</td>\n",
       "      <td>2020</td>\n",
       "      <td>3</td>\n",
       "      <td>3</td>\n",
       "      <td>9</td>\n",
       "      <td>0</td>\n",
       "      <td>0</td>\n",
       "      <td>1</td>\n",
       "      <td>1</td>\n",
       "      <td>0</td>\n",
       "      <td>0</td>\n",
       "      <td>0</td>\n",
       "      <td>0</td>\n",
       "      <td>0</td>\n",
       "      <td>1</td>\n",
       "      <td>0</td>\n",
       "      <td>0</td>\n",
       "      <td>0</td>\n",
       "      <td>0</td>\n",
       "      <td>1</td>\n",
       "      <td>0</td>\n",
       "      <td>0</td>\n",
       "      <td>1</td>\n",
       "      <td>0</td>\n",
       "      <td>0</td>\n",
       "      <td>0</td>\n",
       "      <td>0</td>\n",
       "      <td>1</td>\n",
       "      <td>0</td>\n",
       "      <td>0</td>\n",
       "      <td>1</td>\n",
       "      <td>0</td>\n",
       "      <td>0</td>\n",
       "      <td>1</td>\n",
       "      <td>0</td>\n",
       "      <td>0</td>\n",
       "      <td>0</td>\n",
       "      <td>1</td>\n",
       "      <td>0</td>\n",
       "      <td>1</td>\n",
       "      <td>0</td>\n",
       "      <td>0</td>\n",
       "      <td>0</td>\n",
       "      <td>0</td>\n",
       "      <td>1</td>\n",
       "      <td>0</td>\n",
       "      <td>0</td>\n",
       "      <td>1</td>\n",
       "      <td>0</td>\n",
       "      <td>0</td>\n",
       "      <td>0</td>\n",
       "      <td>0</td>\n",
       "      <td>0</td>\n",
       "      <td>0</td>\n",
       "      <td>1</td>\n",
       "      <td>0</td>\n",
       "      <td>1</td>\n",
       "      <td>0</td>\n",
       "      <td>0</td>\n",
       "    </tr>\n",
       "  </tbody>\n",
       "</table>\n",
       "</div>"
      ],
      "text/plain": [
       "   Hit/Run  ...  Road Division_TWO-WAY, NOT DIVIDED\n",
       "0        0  ...                                   0\n",
       "1        1  ...                                   0\n",
       "2        0  ...                                   0\n",
       "3        0  ...                                   0\n",
       "4        0  ...                                   0\n",
       "\n",
       "[5 rows x 59 columns]"
      ]
     },
     "execution_count": 26,
     "metadata": {
      "tags": []
     },
     "output_type": "execute_result"
    }
   ],
   "source": [
    "# preview of the dataset after encoding\n",
    "df.head()"
   ]
  },
  {
   "cell_type": "code",
   "execution_count": 27,
   "metadata": {
    "id": "ZN4wY39DAe5v"
   },
   "outputs": [],
   "source": [
    "# ensuring there are only two categoories in 'Hit/Run' feature\n",
    "df = df[df['Hit/Run']!=2]"
   ]
  },
  {
   "cell_type": "markdown",
   "metadata": {
    "id": "tIXbyZuqf3MC"
   },
   "source": [
    "### Splitting the data into training and testing sets"
   ]
  },
  {
   "cell_type": "markdown",
   "metadata": {
    "id": "A_uOcISryRA_"
   },
   "source": [
    "In this step, the dataset will be seperated into training and testing sets with stratification. Stratification will ensure that the minority class in the target label will have equal representation in the training set and testing set. "
   ]
  },
  {
   "cell_type": "code",
   "execution_count": 28,
   "metadata": {
    "id": "GWQqSDFPf8Bi"
   },
   "outputs": [],
   "source": [
    "# split the dataframe into input and output matrices\n",
    "X = df.drop('Hit/Run', axis=1)\n",
    "y = df['Hit/Run']"
   ]
  },
  {
   "cell_type": "code",
   "execution_count": 29,
   "metadata": {
    "id": "MG8cO1hcgJj1"
   },
   "outputs": [],
   "source": [
    "# split the data into training and testing sets (with stratification)\n",
    "X_train, X_test, y_train, y_test = train_test_split(X, y, test_size=0.25, random_state=42, stratify=y)"
   ]
  },
  {
   "cell_type": "code",
   "execution_count": 30,
   "metadata": {
    "colab": {
     "base_uri": "https://localhost:8080/"
    },
    "id": "6QT8_rp7gT5W",
    "outputId": "3f10f71e-4828-42a5-cc8a-976de286bbfd"
   },
   "outputs": [
    {
     "name": "stdout",
     "output_type": "stream",
     "text": [
      "Dimensions of X_train:  (51857, 58)\n",
      "Dimensions of y_train:  (51857,)\n",
      "Dimensions of X_test:  (17286, 58)\n",
      "Dimensions of y_test:  (17286,)\n"
     ]
    }
   ],
   "source": [
    "# of the dimensions of the inputs and outputs of the training and testing sets\n",
    "print('Dimensions of X_train: ',X_train.shape)\n",
    "print('Dimensions of y_train: ',y_train.shape)\n",
    "print('Dimensions of X_test: ',X_test.shape)\n",
    "print('Dimensions of y_test: ',y_test.shape)"
   ]
  },
  {
   "cell_type": "markdown",
   "metadata": {
    "id": "q1ZZUZ2fD-QH"
   },
   "source": [
    "## Normalization of Int Features"
   ]
  },
  {
   "cell_type": "markdown",
   "metadata": {
    "id": "kQc7bvQxaTXx"
   },
   "source": [
    "To prevent natural bias towards one int feature over another, all int features will be normalized."
   ]
  },
  {
   "cell_type": "code",
   "execution_count": 31,
   "metadata": {
    "id": "luDmjQjQEB8g"
   },
   "outputs": [],
   "source": [
    "# normalize year, month, day, and hour variables with StandardScaler\n",
    "ss = StandardScaler()\n",
    "\n",
    "# normalize the training data\n",
    "X_train = ss.fit_transform(X_train)\n",
    "\n",
    "# normalize the testing data\n",
    "X_test = ss.transform(X_test)"
   ]
  },
  {
   "cell_type": "markdown",
   "metadata": {
    "id": "1AQZMSRggieA"
   },
   "source": [
    "### Addressing Data Imbalance with SMOTE"
   ]
  },
  {
   "cell_type": "markdown",
   "metadata": {
    "id": "xBM57_rNyYku"
   },
   "source": [
    "The data imbalance in the training set is managed with SMOTE. SMOTE is an oversampling technique that entails creating synthetic data to represent the minority class (i.e. the cases that lead to a hit and run)."
   ]
  },
  {
   "cell_type": "code",
   "execution_count": 32,
   "metadata": {
    "colab": {
     "base_uri": "https://localhost:8080/"
    },
    "id": "khpikjlXgmzm",
    "outputId": "3dc8f12c-01f0-4934-c5e0-b311d6d7543a"
   },
   "outputs": [
    {
     "name": "stdout",
     "output_type": "stream",
     "text": [
      "Number of cases without a hit and run:  42712\n",
      "Number of cases with a hit and run:  42712\n"
     ]
    }
   ],
   "source": [
    "# Use SMOTE to create artificial data to address imbalanced data in the training set\n",
    "smote = SMOTE(random_state = 42, sampling_strategy='minority')\n",
    "X_train, y_train = smote.fit_resample(X_train, y_train)\n",
    "\n",
    "print('Number of cases without a hit and run: ',Counter(y_train)[0])\n",
    "print('Number of cases with a hit and run: ',Counter(y_train)[1])"
   ]
  },
  {
   "cell_type": "markdown",
   "metadata": {
    "id": "5YRv7GKWlBRI"
   },
   "source": [
    "# Predictive Modeling"
   ]
  },
  {
   "cell_type": "markdown",
   "metadata": {
    "id": "WNCxd7lLyxFW"
   },
   "source": [
    "The preprocessed training data will be fed into various machine learning algorithms in search of the model that best predicts the occurence of a hit and run. The models will be evaluated based on the f1-score, the metric that values both precision and recall.\n",
    "\n",
    "The chosen machine learning classifiers for the study include the logistic regression, the random forest classifier, and the xgboost classifier. Each classifier will use cross validation (5 folds) and hyperparameter tuning to find the best parameters for each classifier. The best model model (i.e. the model with the highest score) will be evaluated with the testing set. "
   ]
  },
  {
   "cell_type": "code",
   "execution_count": 33,
   "metadata": {
    "id": "GK6ATQCpoXY1"
   },
   "outputs": [],
   "source": [
    "# Create a dataframe that will store the best parameters and best scores for each classifier\n",
    "model_summary = pd.DataFrame(columns=['Model', 'Best Estimator', 'Best Parameters', 'Best Score'])"
   ]
  },
  {
   "cell_type": "markdown",
   "metadata": {
    "id": "-GehGbiwlEY1"
   },
   "source": [
    "## Logistic Regression"
   ]
  },
  {
   "cell_type": "code",
   "execution_count": 34,
   "metadata": {
    "colab": {
     "base_uri": "https://localhost:8080/"
    },
    "id": "8isG6Bi9lCry",
    "outputId": "dceb10e4-5852-4e2e-97cd-a2f358753995"
   },
   "outputs": [
    {
     "name": "stdout",
     "output_type": "stream",
     "text": [
      "Fitting 5 folds for each of 8 candidates, totalling 40 fits\n"
     ]
    },
    {
     "name": "stderr",
     "output_type": "stream",
     "text": [
      "[Parallel(n_jobs=-1)]: Using backend LokyBackend with 2 concurrent workers.\n",
      "[Parallel(n_jobs=-1)]: Done  37 tasks      | elapsed:    7.6s\n",
      "[Parallel(n_jobs=-1)]: Done  40 out of  40 | elapsed:    8.5s finished\n"
     ]
    }
   ],
   "source": [
    "# create and train the logistic regresion model\n",
    "lr = LogisticRegression(class_weight='balanced')\n",
    "parameters_lr = {'penalty':['l1', 'l2'], 'C':[0.001, 0.01, 0.1, 1]}\n",
    "lr_gs = GridSearchCV(estimator=lr,\n",
    "                        param_grid=parameters_lr,\n",
    "                        n_jobs=-1,\n",
    "                        verbose=2,\n",
    "                        scoring='f1_micro',\n",
    "                        return_train_score=True,\n",
    "                        cv = 5)\n",
    "lr_gs.fit(X_train, y_train)\n",
    "\n",
    "# store the information of the best logistic regression model in the model_summary dataframe\n",
    "model_summary.loc[0] = ['Logistic Regression Model', lr_gs.best_estimator_, lr_gs.best_params_, lr_gs.best_score_]"
   ]
  },
  {
   "cell_type": "markdown",
   "metadata": {
    "id": "d-XS-vgLquzA"
   },
   "source": [
    "## Random Forest Classifier"
   ]
  },
  {
   "cell_type": "code",
   "execution_count": 35,
   "metadata": {
    "colab": {
     "base_uri": "https://localhost:8080/"
    },
    "id": "7b-J5z6mqxaW",
    "outputId": "f5652599-5217-4453-b94f-03984be52318"
   },
   "outputs": [
    {
     "name": "stdout",
     "output_type": "stream",
     "text": [
      "Fitting 5 folds for each of 9 candidates, totalling 45 fits\n"
     ]
    },
    {
     "name": "stderr",
     "output_type": "stream",
     "text": [
      "[Parallel(n_jobs=-1)]: Using backend LokyBackend with 2 concurrent workers.\n",
      "[Parallel(n_jobs=-1)]: Done  37 tasks      | elapsed:  5.3min\n",
      "[Parallel(n_jobs=-1)]: Done  45 out of  45 | elapsed:  6.1min finished\n"
     ]
    }
   ],
   "source": [
    "# create and train the random forest classifier\n",
    "rfc = RandomForestClassifier(random_state=42)\n",
    "parameters_rfc = {'min_samples_split':[2,10,25], 'min_samples_leaf':[5,10,25]}\n",
    "rfc_gs = GridSearchCV(estimator=rfc,\n",
    "                      param_grid = parameters_rfc,\n",
    "                      n_jobs=-1,\n",
    "                      verbose=2,\n",
    "                      scoring='f1_micro',\n",
    "                      return_train_score=True,\n",
    "                      cv = 5)\n",
    "rfc_gs.fit(X_train, y_train)\n",
    "\n",
    "# store the information of the best random forest classifier in the model_summary dataframe \n",
    "model_summary.loc[1] = ['Random Forest Classifier Model', rfc_gs.best_estimator_, rfc_gs.best_params_, rfc_gs.best_score_]"
   ]
  },
  {
   "cell_type": "markdown",
   "metadata": {
    "id": "Z4-xXOZ_gQ6p"
   },
   "source": [
    "## XGBoost Model"
   ]
  },
  {
   "cell_type": "code",
   "execution_count": 36,
   "metadata": {
    "colab": {
     "base_uri": "https://localhost:8080/"
    },
    "id": "xf49fPCXgThx",
    "outputId": "7691876a-7398-4c81-c03a-f9d0697a91e5"
   },
   "outputs": [
    {
     "name": "stdout",
     "output_type": "stream",
     "text": [
      "Fitting 5 folds for each of 25 candidates, totalling 125 fits\n"
     ]
    },
    {
     "name": "stderr",
     "output_type": "stream",
     "text": [
      "[Parallel(n_jobs=-1)]: Using backend LokyBackend with 2 concurrent workers.\n",
      "[Parallel(n_jobs=-1)]: Done  37 tasks      | elapsed:  9.5min\n",
      "[Parallel(n_jobs=-1)]: Done 125 out of 125 | elapsed: 30.9min finished\n"
     ]
    }
   ],
   "source": [
    "# create and train the xgboost classifier\n",
    "xgb = XGBClassifier(random_state=42)\n",
    "parameters_xgb = {'learning_rate':[0.001,0.01,0.1,1,10], 'max_depth':[2,4,6,8,10]}\n",
    "xgb_gs = GridSearchCV(estimator=xgb,\n",
    "                      param_grid=parameters_xgb,\n",
    "                      n_jobs=-1,\n",
    "                      verbose=2,\n",
    "                      scoring='f1_micro',\n",
    "                      return_train_score=True,\n",
    "                      cv = 5)\n",
    "xgb_gs.fit(X_train, y_train)\n",
    "\n",
    "# store the information of the best xgboost model in the model_summary dataframe \n",
    "model_summary.loc[2] = ['XGBoost Model', xgb_gs.best_estimator_, xgb_gs.best_params_, xgb_gs.best_score_]"
   ]
  },
  {
   "cell_type": "code",
   "execution_count": 37,
   "metadata": {
    "colab": {
     "base_uri": "https://localhost:8080/",
     "height": 142
    },
    "id": "Il5d-i9Ol-RO",
    "outputId": "2db9393a-9991-4d94-9a85-690d3c1386d3"
   },
   "outputs": [
    {
     "data": {
      "text/html": [
       "<div>\n",
       "<style scoped>\n",
       "    .dataframe tbody tr th:only-of-type {\n",
       "        vertical-align: middle;\n",
       "    }\n",
       "\n",
       "    .dataframe tbody tr th {\n",
       "        vertical-align: top;\n",
       "    }\n",
       "\n",
       "    .dataframe thead th {\n",
       "        text-align: right;\n",
       "    }\n",
       "</style>\n",
       "<table border=\"1\" class=\"dataframe\">\n",
       "  <thead>\n",
       "    <tr style=\"text-align: right;\">\n",
       "      <th></th>\n",
       "      <th>Model</th>\n",
       "      <th>Best Estimator</th>\n",
       "      <th>Best Parameters</th>\n",
       "      <th>Best Score</th>\n",
       "    </tr>\n",
       "  </thead>\n",
       "  <tbody>\n",
       "    <tr>\n",
       "      <th>0</th>\n",
       "      <td>XGBoost Model</td>\n",
       "      <td>XGBClassifier(base_score=0.5, booster='gbtree'...</td>\n",
       "      <td>{'learning_rate': 0.1, 'max_depth': 6}</td>\n",
       "      <td>0.879836</td>\n",
       "    </tr>\n",
       "    <tr>\n",
       "      <th>1</th>\n",
       "      <td>Random Forest Classifier Model</td>\n",
       "      <td>(DecisionTreeClassifier(ccp_alpha=0.0, class_w...</td>\n",
       "      <td>{'min_samples_leaf': 5, 'min_samples_split': 2}</td>\n",
       "      <td>0.863809</td>\n",
       "    </tr>\n",
       "    <tr>\n",
       "      <th>2</th>\n",
       "      <td>Logistic Regression Model</td>\n",
       "      <td>LogisticRegression(C=1, class_weight='balanced...</td>\n",
       "      <td>{'C': 1, 'penalty': 'l2'}</td>\n",
       "      <td>0.716087</td>\n",
       "    </tr>\n",
       "  </tbody>\n",
       "</table>\n",
       "</div>"
      ],
      "text/plain": [
       "                            Model  ... Best Score\n",
       "0                   XGBoost Model  ...   0.879836\n",
       "1  Random Forest Classifier Model  ...   0.863809\n",
       "2       Logistic Regression Model  ...   0.716087\n",
       "\n",
       "[3 rows x 4 columns]"
      ]
     },
     "execution_count": 37,
     "metadata": {
      "tags": []
     },
     "output_type": "execute_result"
    }
   ],
   "source": [
    "# Sort the model summary dataframe by score in descending order\n",
    "model_summary = model_summary.sort_values(by='Best Score', ascending=False).reset_index(drop=True)\n",
    "model_summary"
   ]
  },
  {
   "cell_type": "markdown",
   "metadata": {
    "id": "F1FQlrqTsl3M"
   },
   "source": [
    "# Evaluating the Best Model"
   ]
  },
  {
   "cell_type": "markdown",
   "metadata": {
    "id": "0x82eG3X0MMK"
   },
   "source": [
    "The table above shows that the xgboost model is the best performing model, yielding an f1-score of 0.8798 with the training data. Therefore, this model is used to predict the hit and run outcomes using the test set. The predicted values of the model are compared to the actual values, which is illustrated in the confusion matrix below."
   ]
  },
  {
   "cell_type": "code",
   "execution_count": 38,
   "metadata": {
    "id": "bk26vOt8tMgq"
   },
   "outputs": [],
   "source": [
    "# select the best model and use it to generate predictions\n",
    "best_model = model_summary['Best Estimator'][0]\n",
    "best_model.fit(X_train, y_train)\n",
    "y_test_pred = best_model.predict(X_test)"
   ]
  },
  {
   "cell_type": "code",
   "execution_count": 39,
   "metadata": {
    "colab": {
     "base_uri": "https://localhost:8080/",
     "height": 466
    },
    "id": "5LHLP6vnuKSq",
    "outputId": "4621a7e8-1514-488c-9878-968a28a52063"
   },
   "outputs": [
    {
     "data": {
      "image/png": "[encoded data removed]",
      "text/plain": [
       "<Figure size 576x576 with 2 Axes>"
      ]
     },
     "metadata": {
      "needs_background": "light",
      "tags": []
     },
     "output_type": "display_data"
    }
   ],
   "source": [
    "# create a confusion matrix to compare actual and predicted values\n",
    "matrix = confusion_matrix(y_test, y_test_pred)\n",
    "cm = pd.DataFrame(matrix)\n",
    "cm.index = ['No', 'Yes']\n",
    "cm.columns = ['No', 'Yes']\n",
    "\n",
    "# plot confusion matrix\n",
    "plt.figure(figsize=(8,8))\n",
    "sns.set(font_scale=1)\n",
    "ax = sns.heatmap(matrix, square=True, annot=True, fmt='d',cbar=True, cmap=plt.cm.GnBu)\n",
    "class_labels = ['No', 'Yes']\n",
    "ax.set_xticklabels(class_labels, rotation=0)\n",
    "ax.set_yticklabels(class_labels, rotation=0)\n",
    "ax.set_xlabel('Predicted')\n",
    "ax.set_ylabel('Actual')\n",
    "ax.set_title('Actual vs Predicted Hit/Run Outcomes With XGBoost Model')\n",
    "plt.show()"
   ]
  },
  {
   "cell_type": "code",
   "execution_count": 40,
   "metadata": {
    "colab": {
     "base_uri": "https://localhost:8080/"
    },
    "id": "jKKJzPph5fWK",
    "outputId": "6fe81194-ec33-4aca-c86d-8163b9c5666d"
   },
   "outputs": [
    {
     "name": "stdout",
     "output_type": "stream",
     "text": [
      "The f1-score is:  0.8342010875853292\n"
     ]
    }
   ],
   "source": [
    "# find the f1-score of the model after evaluating it with the test set\n",
    "f1score = f1_score(y_true=y_test, y_pred=y_test_pred, average='micro')\n",
    "print('The f1-score is: ',f1score)"
   ]
  },
  {
   "cell_type": "markdown",
   "metadata": {
    "id": "H6RLFEqj1BoV"
   },
   "source": [
    "The f1-score of the xgboost model with the testing set is 0.8342, a relatively decent value. "
   ]
  },
  {
   "cell_type": "markdown",
   "metadata": {
    "id": "y83lzUCn7JRN"
   },
   "source": [
    "# Identifying the most important features"
   ]
  },
  {
   "cell_type": "markdown",
   "metadata": {
    "id": "Vx2EWT611edD"
   },
   "source": [
    "To test the hypothesis, the most significant features in the dataset need to be identified. If features pertaining to road infrastructure (e.g. light, road condition) generate the highest score, there will be sufficient evidence to prove that improving road conditions will impact likelihood of hit and run cases. "
   ]
  },
  {
   "cell_type": "code",
   "execution_count": 41,
   "metadata": {
    "id": "_sVySVxW535p"
   },
   "outputs": [],
   "source": [
    "# create a dataframe that stores each feature and its corresponding feature score\n",
    "feature_importance = pd.DataFrame(columns=['Feature', 'Feature Score'])\n",
    "feature_importance['Feature'] = X.columns\n",
    "feature_importance['Feature Score'] = best_model.feature_importances_\n",
    "\n",
    "# sort the feature_importance dataframe by feature score in descending order\n",
    "feature_importance = feature_importance.sort_values(by='Feature Score', ascending=False)\n"
   ]
  },
  {
   "cell_type": "code",
   "execution_count": 42,
   "metadata": {
    "colab": {
     "base_uri": "https://localhost:8080/",
     "height": 518
    },
    "id": "J-zgfpp26cAT",
    "outputId": "c9f24a33-6538-4847-ac31-aac9a373493c"
   },
   "outputs": [
    {
     "data": {
      "image/png": "[encoded data removed]",
      "text/plain": [
       "<Figure size 576x576 with 1 Axes>"
      ]
     },
     "metadata": {
      "tags": []
     },
     "output_type": "display_data"
    }
   ],
   "source": [
    "# plot the 10 most significant features \n",
    "plt.figure(figsize=(8,8))\n",
    "plt.barh(feature_importance['Feature'][:10][::-1], feature_importance['Feature Score'][:10][::-1])\n",
    "plt.ylabel('Feature')\n",
    "plt.xlabel('Score')\n",
    "plt.title('The 10 Most Significant Features For Predicting Hit/Run Outcomes')\n",
    "plt.show()"
   ]
  },
  {
   "cell_type": "markdown",
   "metadata": {
    "id": "pVFKGE_-w5pJ"
   },
   "source": [
    "The given results do not support the hypothesis. There is not enough evidence to confirm that road conditions play a significnat role in hit and run cases. The most important feature relevant to road conditions is the 'Road Grade' feature, which is the only the 10th most important feature.\n",
    "\n",
    "According to the xgboost model, the most important feature for predicting hit and run incidents is the 'ACRS Report Type' feature. This makes sense, since drivers will have more incentive to leave if they believe that the damage caused from the crash is insignificant. \n",
    "\n",
    "\n",
    "*Note*: Although the 'Number of Lanes' feature is ranked 2nd and is related to the road infrastructure, it is not something that can be improved. Therefore, its high score does not support the hypothesis.\n"
   ]
  },
  {
   "cell_type": "markdown",
   "metadata": {
    "id": "VtG7Zid37yKZ"
   },
   "source": [
    "## Export Data For Visualization"
   ]
  },
  {
   "cell_type": "markdown",
   "metadata": {
    "id": "ntheb_Ws736h"
   },
   "source": [
    "For the final step, all relevant dataframes will be exported in the form of an .xlsx file, which will be used to present the descriptive statistics as well as the results of the research questions using Tableau."
   ]
  },
  {
   "cell_type": "code",
   "execution_count": 43,
   "metadata": {
    "id": "gXEzWhe973GG"
   },
   "outputs": [],
   "source": [
    "with pd.ExcelWriter('results.xlsx') as writer:\n",
    "  # exporting preprocessed dataset for descriptive statistics\n",
    "  df_clean.to_excel(writer, sheet_name='Cleaned Dataset')\n",
    "  # exporting the dataframe used for the confusion matrix\n",
    "  cm.to_excel(writer, sheet_name='Confusion Matrix')\n",
    "  # exporting the dataframe used for storing the feature importance\n",
    "  feature_importance.to_excel(writer, sheet_name='Feature Importance Data')"
   ]
  }
 ],
 "metadata": {
  "colab": {
   "collapsed_sections": [],
   "name": "Optimal Solutions Group - Data Scientist Test",
   "provenance": []
  },
  "kernelspec": {
   "display_name": "Python 3",
   "language": "python",
   "name": "python3"
  },
  "language_info": {
   "codemirror_mode": {
    "name": "ipython",
    "version": 3
   },
   "file_extension": ".py",
   "mimetype": "text/x-python",
   "name": "python",
   "nbconvert_exporter": "python",
   "pygments_lexer": "ipython3",
   "version": "3.7.9"
  }
 },
 "nbformat": 4,
 "nbformat_minor": 1
}
